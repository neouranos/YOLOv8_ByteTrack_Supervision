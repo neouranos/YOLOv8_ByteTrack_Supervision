{
  "cells": [
    {
      "cell_type": "markdown",
      "metadata": {
        "id": "0fRV0VyTFa4v"
      },
      "source": [
        "## Before you start\n",
        "\n",
        "Let's make sure that we have access to GPU. We can use `nvidia-smi` command to do that."
      ]
    },
    {
      "cell_type": "code",
      "execution_count": 1,
      "metadata": {
        "colab": {
          "base_uri": "https://localhost:8080/"
        },
        "id": "nD3EEfKzFftV",
        "outputId": "9417ef1a-daf7-47de-88a7-04664d42a680"
      },
      "outputs": [
        {
          "name": "stdout",
          "output_type": "stream",
          "text": [
            "Fri Dec 29 19:33:55 2023       \n",
            "+---------------------------------------------------------------------------------------+\n",
            "| NVIDIA-SMI 546.33                 Driver Version: 546.33       CUDA Version: 12.3     |\n",
            "|-----------------------------------------+----------------------+----------------------+\n",
            "| GPU  Name                     TCC/WDDM  | Bus-Id        Disp.A | Volatile Uncorr. ECC |\n",
            "| Fan  Temp   Perf          Pwr:Usage/Cap |         Memory-Usage | GPU-Util  Compute M. |\n",
            "|                                         |                      |               MIG M. |\n",
            "|=========================================+======================+======================|\n",
            "|   0  NVIDIA GeForce RTX 3070      WDDM  | 00000000:01:00.0  On |                  N/A |\n",
            "|  0%   39C    P5              19W / 240W |   1039MiB /  8192MiB |     12%      Default |\n",
            "|                                         |                      |                  N/A |\n",
            "+-----------------------------------------+----------------------+----------------------+\n",
            "                                                                                         \n",
            "+---------------------------------------------------------------------------------------+\n",
            "| Processes:                                                                            |\n",
            "|  GPU   GI   CI        PID   Type   Process name                            GPU Memory |\n",
            "|        ID   ID                                                             Usage      |\n",
            "|=======================================================================================|\n",
            "|    0   N/A  N/A      1204    C+G   ...inaries\\Win64\\EpicGamesLauncher.exe    N/A      |\n",
            "|    0   N/A  N/A      6180    C+G   ...wekyb3d8bbwe\\XboxGameBarWidgets.exe    N/A      |\n",
            "|    0   N/A  N/A      6924    C+G   C:\\Program Files\\Motrix\\Motrix.exe        N/A      |\n",
            "|    0   N/A  N/A      7544    C+G   ....5287.0_x64__8j3eq9eme6ctt\\IGCC.exe    N/A      |\n",
            "|    0   N/A  N/A      7568    C+G   ...Cloudflare WARP\\Cloudflare WARP.exe    N/A      |\n",
            "|    0   N/A  N/A      7684    C+G   ...werToys\\PowerToys.ColorPickerUI.exe    N/A      |\n",
            "|    0   N/A  N/A      8244    C+G   C:\\Windows\\explorer.exe                   N/A      |\n",
            "|    0   N/A  N/A      9376    C+G   ...on\\120.0.2210.91\\msedgewebview2.exe    N/A      |\n",
            "|    0   N/A  N/A      9632    C+G   ...werToys\\PowerToys.PowerLauncher.exe    N/A      |\n",
            "|    0   N/A  N/A      9756    C+G   ...nt.CBS_cw5n1h2txyewy\\SearchHost.exe    N/A      |\n",
            "|    0   N/A  N/A      9780    C+G   ...2txyewy\\StartMenuExperienceHost.exe    N/A      |\n",
            "|    0   N/A  N/A     11820    C+G   ...2.0_x64__cv1g1gvanyjgm\\WhatsApp.exe    N/A      |\n",
            "|    0   N/A  N/A     11876    C+G   ...t.LockApp_cw5n1h2txyewy\\LockApp.exe    N/A      |\n",
            "|    0   N/A  N/A     12404    C+G   ...ekyb3d8bbwe\\PhoneExperienceHost.exe    N/A      |\n",
            "|    0   N/A  N/A     13232    C+G   ...12.0_x64__8wekyb3d8bbwe\\GameBar.exe    N/A      |\n",
            "|    0   N/A  N/A     14084    C+G   ...CBS_cw5n1h2txyewy\\TextInputHost.exe    N/A      |\n",
            "|    0   N/A  N/A     14400    C+G   ...Programs\\Microsoft VS Code\\Code.exe    N/A      |\n",
            "|    0   N/A  N/A     14464    C+G   ...crosoft\\Edge\\Application\\msedge.exe    N/A      |\n",
            "|    0   N/A  N/A     15776    C+G   ... Stream\\85.0.30.0\\GoogleDriveFS.exe    N/A      |\n",
            "|    0   N/A  N/A     17232    C+G   ...siveControlPanel\\SystemSettings.exe    N/A      |\n",
            "|    0   N/A  N/A     18440    C+G   ...ne\\Binaries\\Win64\\EpicWebHelper.exe    N/A      |\n",
            "|    0   N/A  N/A     20464    C+G   ...5n1h2txyewy\\ShellExperienceHost.exe    N/A      |\n",
            "+---------------------------------------------------------------------------------------+\n"
          ]
        }
      ],
      "source": [
        "!nvidia-smi"
      ]
    },
    {
      "cell_type": "markdown",
      "metadata": {
        "id": "hZkBCNk9F6NO"
      },
      "source": [
        "## Setup path"
      ]
    },
    {
      "cell_type": "code",
      "execution_count": 2,
      "metadata": {},
      "outputs": [],
      "source": [
        "import os"
      ]
    },
    {
      "cell_type": "code",
      "execution_count": 3,
      "metadata": {},
      "outputs": [
        {
          "name": "stdout",
          "output_type": "stream",
          "text": [
            "c:\\Github\\YOLOv8_ByteTrack_Supervision\n"
          ]
        }
      ],
      "source": [
        "HOME = os.getcwd()\n",
        "print(HOME)"
      ]
    },
    {
      "cell_type": "code",
      "execution_count": 4,
      "metadata": {},
      "outputs": [],
      "source": [
        "VIDEOS_DIR = f\"{HOME}/videos/\"\n",
        "os.makedirs(VIDEOS_DIR, exist_ok=True)\n",
        "\n",
        "RESULTS_DIR = f\"{HOME}/results/\"\n",
        "os.makedirs(RESULTS_DIR, exist_ok=True)"
      ]
    },
    {
      "cell_type": "code",
      "execution_count": 5,
      "metadata": {
        "id": "Y3DjvPRiGIht"
      },
      "outputs": [],
      "source": [
        "SOURCE_VIDEO_PATH_EDIBLE_VS_REGULER = f\"{VIDEOS_DIR}EdibleN_VS_RegulerN.mp4\"\n",
        "SOURCE_VIDEO_PATH_EDIBLE_VS_REJECT = f\"{VIDEOS_DIR}EdibleN_VS_RejectN.mp4\"\n",
        "SOURCE_VIDEO_PATH_REGULER_VS_REJECT = f\"{VIDEOS_DIR}RegulerN_VS_RejectN.mp4\""
      ]
    },
    {
      "cell_type": "markdown",
      "metadata": {
        "id": "C5w5bHwTGUdp"
      },
      "source": [
        "## Check YOLOv8 Installation"
      ]
    },
    {
      "cell_type": "code",
      "execution_count": 6,
      "metadata": {
        "colab": {
          "base_uri": "https://localhost:8080/"
        },
        "id": "S2kB2mCmGPmL",
        "outputId": "61af579b-d853-4be7-bfec-556d2c4c60d1"
      },
      "outputs": [
        {
          "name": "stdout",
          "output_type": "stream",
          "text": [
            "Ultralytics YOLOv8.0.231 🚀 Python-3.10.11 torch-2.1.2+cu118 CUDA:0 (NVIDIA GeForce RTX 3070, 8192MiB)\n",
            "Setup complete ✅ (20 CPUs, 31.8 GB RAM, 399.3/930.8 GB disk)\n"
          ]
        }
      ],
      "source": [
        "from IPython import display\n",
        "display.clear_output()\n",
        "\n",
        "import ultralytics\n",
        "ultralytics.checks()"
      ]
    },
    {
      "cell_type": "markdown",
      "metadata": {
        "id": "c-Fg7kPTG1xL"
      },
      "source": [
        "## Check Roboflow Supervision Installation"
      ]
    },
    {
      "cell_type": "code",
      "execution_count": 7,
      "metadata": {
        "colab": {
          "base_uri": "https://localhost:8080/"
        },
        "id": "dbt0QFEn9OFu",
        "outputId": "88a3a60b-ca43-4d3e-99c5-405c170f18f5"
      },
      "outputs": [
        {
          "name": "stdout",
          "output_type": "stream",
          "text": [
            "supervision.__version__: 0.17.1\n"
          ]
        }
      ],
      "source": [
        "from IPython import display\n",
        "display.clear_output()\n",
        "\n",
        "import supervision as sv\n",
        "print(\"supervision.__version__:\", sv.__version__)"
      ]
    },
    {
      "cell_type": "markdown",
      "metadata": {
        "id": "Y99ZDFi4G9zU"
      },
      "source": [
        "## Load pre-trained YOLOv8 model"
      ]
    },
    {
      "cell_type": "code",
      "execution_count": 8,
      "metadata": {
        "id": "uxe67PQVHBCA"
      },
      "outputs": [],
      "source": [
        "MODEL = \"./models/KopraV6_result_YOLOv8m/weights/best.pt\""
      ]
    },
    {
      "cell_type": "code",
      "execution_count": 9,
      "metadata": {
        "colab": {
          "base_uri": "https://localhost:8080/"
        },
        "id": "9-7SBD_bHDuQ",
        "outputId": "5c7a2988-55b4-4e94-8a40-c38858304418"
      },
      "outputs": [
        {
          "name": "stdout",
          "output_type": "stream",
          "text": [
            "Model summary (fused): 218 layers, 25843234 parameters, 0 gradients, 78.7 GFLOPs\n"
          ]
        }
      ],
      "source": [
        "from ultralytics import YOLO\n",
        "\n",
        "model = YOLO(MODEL)\n",
        "model.fuse()"
      ]
    },
    {
      "cell_type": "markdown",
      "metadata": {
        "id": "Kc0NETYnJWex"
      },
      "source": [
        "## Predict and annotate whole video"
      ]
    },
    {
      "cell_type": "code",
      "execution_count": 10,
      "metadata": {},
      "outputs": [],
      "source": [
        "import supervision as sv\n",
        "import numpy as np"
      ]
    },
    {
      "cell_type": "code",
      "execution_count": 11,
      "metadata": {},
      "outputs": [],
      "source": [
        "# dict maping class_id to class_name\n",
        "CLASS_NAMES_DICT = model.model.names\n",
        "\n",
        "# class_ids of interest\n",
        "selected_classes = [0, 1, 2, 3, 4, 5]"
      ]
    },
    {
      "cell_type": "code",
      "execution_count": 42,
      "metadata": {
        "id": "7Qwykp5K9VdK"
      },
      "outputs": [],
      "source": [
        "# setting start and end of line\n",
        "LINE_START = sv.Point(150, 500)\n",
        "LINE_END = sv.Point(1810, 500)"
      ]
    },
    {
      "cell_type": "code",
      "execution_count": 47,
      "metadata": {},
      "outputs": [],
      "source": [
        "# change this to change the source video\n",
        "SOURCE_VIDEO_PATH = SOURCE_VIDEO_PATH_REGULER_VS_REJECT"
      ]
    },
    {
      "cell_type": "code",
      "execution_count": 48,
      "metadata": {},
      "outputs": [],
      "source": [
        "# do not change this\n",
        "if(SOURCE_VIDEO_PATH == SOURCE_VIDEO_PATH_EDIBLE_VS_REGULER):\n",
        "    TARGET_VIDEO_PATH = f\"{RESULTS_DIR}EdibleN_VS_RegulerN_result.mp4\"\n",
        "elif(SOURCE_VIDEO_PATH == SOURCE_VIDEO_PATH_EDIBLE_VS_REJECT):\n",
        "    TARGET_VIDEO_PATH = f\"{RESULTS_DIR}EdibleN_VS_RejectN_result.mp4\"\n",
        "elif(SOURCE_VIDEO_PATH == SOURCE_VIDEO_PATH_REGULER_VS_REJECT):\n",
        "    TARGET_VIDEO_PATH = f\"{RESULTS_DIR}RegulerN_VS_RejectN_result.mp4\""
      ]
    },
    {
      "cell_type": "code",
      "execution_count": 49,
      "metadata": {
        "colab": {
          "base_uri": "https://localhost:8080/"
        },
        "id": "kTBvc5FDJcyw",
        "outputId": "0d902b43-24f0-4b17-fe4d-80cca908fc5e"
      },
      "outputs": [
        {
          "data": {
            "text/plain": [
              "VideoInfo(width=1920, height=1080, fps=30, total_frames=3760)"
            ]
          },
          "execution_count": 49,
          "metadata": {},
          "output_type": "execute_result"
        }
      ],
      "source": [
        "# do not change this\n",
        "sv.VideoInfo.from_video_path(SOURCE_VIDEO_PATH)"
      ]
    },
    {
      "cell_type": "code",
      "execution_count": 50,
      "metadata": {
        "id": "UdnkBZVn9Xyb"
      },
      "outputs": [],
      "source": [
        "# create BYTETracker instance\n",
        "byte_tracker = sv.ByteTrack(track_thresh=0.25, track_buffer=30, match_thresh=0.8, frame_rate=30)\n",
        "\n",
        "# create VideoInfo instance\n",
        "video_info = sv.VideoInfo.from_video_path(SOURCE_VIDEO_PATH)\n",
        "\n",
        "# create frame generator\n",
        "generator = sv.get_video_frames_generator(SOURCE_VIDEO_PATH)\n",
        "\n",
        "# create LineZone instance, it is previously called LineCounter class\n",
        "line_zone = sv.LineZone(start=LINE_START, end=LINE_END)\n",
        "\n",
        "# create instance of BoxAnnotator\n",
        "box_annotator = sv.BoxAnnotator(thickness=4, text_thickness=4, text_scale=2)\n",
        "\n",
        "# create instance of TraceAnnotator\n",
        "trace_annotator = sv.TraceAnnotator(thickness=4, trace_length=50)\n",
        "\n",
        "# create LineZoneAnnotator instance, it is previously called LineCounterAnnotator class\n",
        "line_zone_annotator = sv.LineZoneAnnotator(thickness=4, text_thickness=4, text_scale=2)\n",
        "\n",
        "# define call back function to be used in video processing\n",
        "def callback(frame: np.ndarray, index:int) -> np.ndarray:\n",
        "    # model prediction on single frame and conversion to supervision Detections\n",
        "    results = model(frame, verbose=False)[0]\n",
        "    detections = sv.Detections.from_ultralytics(results)\n",
        "    # only consider class id from selected_classes define above\n",
        "    detections = detections[np.isin(detections.class_id, selected_classes)]\n",
        "    # tracking detections\n",
        "    detections = byte_tracker.update_with_detections(detections)\n",
        "    labels = [\n",
        "        f\"#{tracker_id} {model.model.names[class_id]} {confidence:0.2f}\"\n",
        "        for _, _, confidence, class_id, tracker_id\n",
        "        in detections\n",
        "    ]\n",
        "    annotated_frame = trace_annotator.annotate(\n",
        "        scene=frame.copy(),\n",
        "        detections=detections\n",
        "    )\n",
        "    annotated_frame=box_annotator.annotate(\n",
        "        scene=annotated_frame,\n",
        "        detections=detections,\n",
        "        labels=labels)\n",
        "\n",
        "    # update line counter\n",
        "    line_zone.trigger(detections)\n",
        "    # return frame with box and line annotated result\n",
        "    return  line_zone_annotator.annotate(annotated_frame, line_counter=line_zone)\n",
        "\n",
        "# process the whole video\n",
        "sv.process_video(\n",
        "    source_path = SOURCE_VIDEO_PATH,\n",
        "    target_path = TARGET_VIDEO_PATH,\n",
        "    callback=callback\n",
        ")"
      ]
    }
  ],
  "metadata": {
    "accelerator": "GPU",
    "colab": {
      "gpuType": "T4",
      "provenance": []
    },
    "kernelspec": {
      "display_name": "Python 3",
      "name": "python3"
    },
    "language_info": {
      "codemirror_mode": {
        "name": "ipython",
        "version": 3
      },
      "file_extension": ".py",
      "mimetype": "text/x-python",
      "name": "python",
      "nbconvert_exporter": "python",
      "pygments_lexer": "ipython3",
      "version": "3.10.11"
    }
  },
  "nbformat": 4,
  "nbformat_minor": 0
}
